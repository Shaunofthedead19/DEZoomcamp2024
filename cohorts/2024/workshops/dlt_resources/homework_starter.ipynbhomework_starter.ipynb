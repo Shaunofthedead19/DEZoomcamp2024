{
  "nbformat": 4,
  "nbformat_minor": 0,
  "metadata": {
    "colab": {
      "provenance": [],
      "include_colab_link": true
    },
    "kernelspec": {
      "name": "python3",
      "display_name": "Python 3"
    },
    "language_info": {
      "name": "python"
    }
  },
  "cells": [
    {
      "cell_type": "markdown",
      "metadata": {
        "id": "view-in-github",
        "colab_type": "text"
      },
      "source": [
        "<a href=\"https://colab.research.google.com/github/Shaunofthedead19/DEZoomcamp2024/blob/main/cohorts/2024/workshops/dlt_resources/homework_starter.ipynbhomework_starter.ipynb\" target=\"_parent\"><img src=\"https://colab.research.google.com/assets/colab-badge.svg\" alt=\"Open In Colab\"/></a>"
      ]
    },
    {
      "cell_type": "markdown",
      "source": [
        "# **Homework**: Data talks club data engineering zoomcamp Data loading workshop\n",
        "\n",
        "Hello folks, let's practice what we learned - Loading data with the best practices of data engineering.\n",
        "\n",
        "Here are the exercises we will do\n",
        "\n",
        "\n"
      ],
      "metadata": {
        "id": "mrTFv5nPClXh"
      }
    },
    {
      "cell_type": "markdown",
      "source": [
        "# 1. Use a generator\n",
        "\n",
        "Remember the concept of generator? Let's practice using them to futher our understanding of how they work.\n",
        "\n",
        "Let's define a generator and then run it as practice.\n",
        "\n",
        "**Answer the following questions:**\n",
        "\n",
        "- **Question 1: What is the sum of the outputs of the generator for limit = 5?**\n",
        "- **Question 2: What is the 13th number yielded**\n",
        "\n",
        "I suggest practicing these questions without GPT as the purpose is to further your learning."
      ],
      "metadata": {
        "id": "wLF4iXf-NR7t"
      }
    },
    {
      "cell_type": "code",
      "source": [
        "def square_root_generator(limit):\n",
        "    n = 1\n",
        "    while n <= limit:\n",
        "        yield n ** 0.5\n",
        "        n += 1\n",
        "\n",
        "# Example usage:\n",
        "limit = 5\n",
        "generator = square_root_generator(limit)\n",
        "\n",
        "for sqrt_value in generator:\n",
        "    print(sqrt_value)\n"
      ],
      "metadata": {
        "colab": {
          "base_uri": "https://localhost:8080/"
        },
        "id": "wLng-bDJN4jf",
        "outputId": "1bf2455f-88a1-495a-dff5-eff3fa9732ce"
      },
      "execution_count": 7,
      "outputs": [
        {
          "output_type": "stream",
          "name": "stdout",
          "text": [
            "1.0\n",
            "1.4142135623730951\n",
            "1.7320508075688772\n",
            "2.0\n",
            "2.23606797749979\n"
          ]
        }
      ]
    },
    {
      "cell_type": "markdown",
      "source": [],
      "metadata": {
        "id": "xbe3q55zN43j"
      }
    },
    {
      "cell_type": "markdown",
      "source": [
        "# 2. Append a generator to a table with existing data\n",
        "\n",
        "\n",
        "Below you have 2 generators. You will be tasked to load them to duckdb and answer some questions from the data\n",
        "\n",
        "1. Load the first generator and calculate the sum of ages of all people. Make sure to only load it once.\n",
        "2. Append the second generator to the same table as the first.\n",
        "3. **After correctly appending the data, calculate the sum of all ages of people.**\n",
        "\n",
        "\n"
      ],
      "metadata": {
        "id": "vjWhILzGJMpK"
      }
    },
    {
      "cell_type": "code",
      "execution_count": 10,
      "metadata": {
        "colab": {
          "base_uri": "https://localhost:8080/"
        },
        "id": "2MoaQcdLBEk6",
        "outputId": "a0f44da6-7347-4517-c1ee-5b7ae31fdfb1"
      },
      "outputs": [
        {
          "output_type": "stream",
          "name": "stdout",
          "text": [
            "{'ID': 1, 'Name': 'Person_1', 'Age': 26, 'City': 'City_A'}\n",
            "{'ID': 2, 'Name': 'Person_2', 'Age': 27, 'City': 'City_A'}\n",
            "{'ID': 3, 'Name': 'Person_3', 'Age': 28, 'City': 'City_A'}\n",
            "{'ID': 4, 'Name': 'Person_4', 'Age': 29, 'City': 'City_A'}\n",
            "{'ID': 5, 'Name': 'Person_5', 'Age': 30, 'City': 'City_A'}\n",
            "{'ID': 3, 'Name': 'Person_3', 'Age': 33, 'City': 'City_B', 'Occupation': 'Job_3'}\n",
            "{'ID': 4, 'Name': 'Person_4', 'Age': 34, 'City': 'City_B', 'Occupation': 'Job_4'}\n",
            "{'ID': 5, 'Name': 'Person_5', 'Age': 35, 'City': 'City_B', 'Occupation': 'Job_5'}\n",
            "{'ID': 6, 'Name': 'Person_6', 'Age': 36, 'City': 'City_B', 'Occupation': 'Job_6'}\n",
            "{'ID': 7, 'Name': 'Person_7', 'Age': 37, 'City': 'City_B', 'Occupation': 'Job_7'}\n",
            "{'ID': 8, 'Name': 'Person_8', 'Age': 38, 'City': 'City_B', 'Occupation': 'Job_8'}\n"
          ]
        }
      ],
      "source": [
        "def people_1():\n",
        "    for i in range(1, 6):\n",
        "        yield {\"ID\": i, \"Name\": f\"Person_{i}\", \"Age\": 25 + i, \"City\": \"City_A\"}\n",
        "\n",
        "for person in people_1():\n",
        "    print(person)\n",
        "\n",
        "\n",
        "def people_2():\n",
        "    for i in range(3, 9):\n",
        "        yield {\"ID\": i, \"Name\": f\"Person_{i}\", \"Age\": 30 + i, \"City\": \"City_B\", \"Occupation\": f\"Job_{i}\"}\n",
        "\n",
        "\n",
        "for person in people_2():\n",
        "    print(person)\n"
      ]
    },
    {
      "cell_type": "markdown",
      "source": [],
      "metadata": {
        "id": "vtdTIm4fvQCN"
      }
    },
    {
      "cell_type": "markdown",
      "source": [
        "# 3. Merge a generator\n",
        "\n",
        "Re-use the generators from Exercise 2.\n",
        "\n",
        "A table's primary key needs to be created from the start, so load your data to a new table with primary key ID.\n",
        "\n",
        "Load your first generator first, and then load the second one with merge. Since they have overlapping IDs, some of the records from the first load should be replaced by the ones from the second load.\n",
        "\n",
        "After loading, you should have a total of 8 records, and ID 3 should have age 33.\n",
        "\n",
        "Question: **Calculate the sum of ages of all the people loaded as described above.**\n"
      ],
      "metadata": {
        "id": "pY4cFAWOSwN1"
      }
    },
    {
      "cell_type": "markdown",
      "source": [
        "# Solution: First make sure that the following modules are installed:"
      ],
      "metadata": {
        "id": "kKB2GTB9oVjr"
      }
    },
    {
      "cell_type": "code",
      "source": [
        "#Install the dependencies\n",
        "%%capture\n",
        "!pip install dlt[duckdb]"
      ],
      "metadata": {
        "id": "xTVvtyqrfVNq"
      },
      "execution_count": 9,
      "outputs": []
    },
    {
      "cell_type": "code",
      "source": [
        "# to do: homework :)"
      ],
      "metadata": {
        "id": "a2-PRBAkGC2K"
      },
      "execution_count": null,
      "outputs": []
    },
    {
      "cell_type": "code",
      "source": [
        "#Imports\n",
        "import dlt\n",
        "import duckdb"
      ],
      "metadata": {
        "id": "t_t2xQ9CnPHT"
      },
      "execution_count": 16,
      "outputs": []
    },
    {
      "cell_type": "markdown",
      "source": [
        "Solution 1"
      ],
      "metadata": {
        "id": "EjNzWRFjzmRR"
      }
    },
    {
      "cell_type": "code",
      "source": [
        "sum = 0\n",
        "limit = 5\n",
        "generator = square_root_generator(limit)\n",
        "\n",
        "for n in range(limit):\n",
        "  sum+=next(generator)\n",
        "\n",
        "#Question 1: Sum of outputs\n",
        "print(\"Sum of values:\", sum)"
      ],
      "metadata": {
        "colab": {
          "base_uri": "https://localhost:8080/"
        },
        "id": "h_d-9MyMmUq1",
        "outputId": "bf9d40e0-bf77-474a-ed1d-7a4841c63edb"
      },
      "execution_count": 6,
      "outputs": [
        {
          "output_type": "stream",
          "name": "stdout",
          "text": [
            "Sum of values: 8.382332347441762\n"
          ]
        }
      ]
    },
    {
      "cell_type": "markdown",
      "source": [
        "Solution 2"
      ],
      "metadata": {
        "id": "A4GkqeCuzrEi"
      }
    },
    {
      "cell_type": "code",
      "source": [
        "limit=13\n",
        "generator_2=square_root_generator(limit)\n",
        "\n",
        "n=0\n",
        "for value in generator_2:\n",
        "  n+=1\n",
        "  if n < 13:\n",
        "    continue\n",
        "  else:\n",
        "    print(\"13th value is: \", value)"
      ],
      "metadata": {
        "colab": {
          "base_uri": "https://localhost:8080/"
        },
        "id": "DtcBum2vmQgG",
        "outputId": "5a8b43c5-e9a3-4296-b781-97a2706399db"
      },
      "execution_count": 8,
      "outputs": [
        {
          "output_type": "stream",
          "name": "stdout",
          "text": [
            "13th value is:  3.605551275463989\n"
          ]
        }
      ]
    },
    {
      "cell_type": "markdown",
      "source": [
        "Solution 3"
      ],
      "metadata": {
        "id": "YcnH07B2qTaI"
      }
    },
    {
      "cell_type": "code",
      "source": [
        "#Loading pipeline_1 to duckdb\n",
        "p1_pipeline = dlt.pipeline(destination = 'duckdb', dataset_name='people')\n",
        "\n",
        "#Running p1_pipeline\n",
        "info = p1_pipeline.run(people_1(),\n",
        "                       table_name = \"people\",\n",
        "                       write_disposition=\"replace\")\n",
        "\n",
        "print(info)"
      ],
      "metadata": {
        "colab": {
          "base_uri": "https://localhost:8080/"
        },
        "id": "BjeZR1K2nsWC",
        "outputId": "921d76ad-f7f0-4ec5-97a5-ee0a407d9a9c"
      },
      "execution_count": 13,
      "outputs": [
        {
          "output_type": "stream",
          "name": "stdout",
          "text": [
            "Pipeline dlt_colab_kernel_launcher load step completed in 0.43 seconds\n",
            "1 load package(s) were loaded to destination duckdb and into dataset people\n",
            "The duckdb destination used duckdb:////content/dlt_colab_kernel_launcher.duckdb location to store data\n",
            "Load package 1708250481.3772933 is LOADED and contains no failed jobs\n"
          ]
        }
      ]
    },
    {
      "cell_type": "code",
      "source": [
        "#Loading Pipeline_2 to duckdb\n",
        "p2_pipeline = dlt.pipeline(destination='duckdb', dataset_name='people')\n",
        "\n",
        "#Running p2_pipeline\n",
        "info = p2_pipeline.run(people_2(),\n",
        "                       table_name=\"people\",\n",
        "                       write_disposition=\"append\")\n",
        "\n",
        "print(info)"
      ],
      "metadata": {
        "colab": {
          "base_uri": "https://localhost:8080/"
        },
        "id": "QRIB5V3kqdkT",
        "outputId": "a5bd0c72-0489-4b10-8308-a387b6c7806f"
      },
      "execution_count": 15,
      "outputs": [
        {
          "output_type": "stream",
          "name": "stdout",
          "text": [
            "Pipeline dlt_colab_kernel_launcher load step completed in 0.34 seconds\n",
            "1 load package(s) were loaded to destination duckdb and into dataset people\n",
            "The duckdb destination used duckdb:////content/dlt_colab_kernel_launcher.duckdb location to store data\n",
            "Load package 1708250683.1801634 is LOADED and contains no failed jobs\n"
          ]
        }
      ]
    },
    {
      "cell_type": "code",
      "source": [
        "#connecting to duckdb DB and displaying available tables\n",
        "connection = duckdb.connect(f\"{p1_pipeline.pipeline_name}.duckdb\")\n",
        "\n",
        "connection.sql(f\"SET search_path = '{p1_pipeline.dataset_name}'\")\n",
        "display(connection.sql(\"show tables\"))"
      ],
      "metadata": {
        "colab": {
          "base_uri": "https://localhost:8080/",
          "height": 173
        },
        "id": "toSwkth9rPA5",
        "outputId": "b4370fcf-4051-4177-d7b8-8d77ef9d2c78"
      },
      "execution_count": 17,
      "outputs": [
        {
          "output_type": "display_data",
          "data": {
            "text/plain": [
              "┌─────────────────────┐\n",
              "│        name         │\n",
              "│       varchar       │\n",
              "├─────────────────────┤\n",
              "│ _dlt_loads          │\n",
              "│ _dlt_pipeline_state │\n",
              "│ _dlt_version        │\n",
              "│ people              │\n",
              "└─────────────────────┘"
            ]
          },
          "metadata": {}
        }
      ]
    },
    {
      "cell_type": "code",
      "source": [
        "#Checking data in people table\n",
        "display(connection.sql(\"SELECT * from people\"))"
      ],
      "metadata": {
        "colab": {
          "base_uri": "https://localhost:8080/",
          "height": 329
        },
        "id": "UUiz2eHltN6N",
        "outputId": "2f82c021-f84e-42c6-e08e-7a8554788004"
      },
      "execution_count": 18,
      "outputs": [
        {
          "output_type": "display_data",
          "data": {
            "text/plain": [
              "┌───────┬──────────┬───────┬─────────┬────────────────────┬────────────────┬────────────┐\n",
              "│  id   │   name   │  age  │  city   │    _dlt_load_id    │    _dlt_id     │ occupation │\n",
              "│ int64 │ varchar  │ int64 │ varchar │      varchar       │    varchar     │  varchar   │\n",
              "├───────┼──────────┼───────┼─────────┼────────────────────┼────────────────┼────────────┤\n",
              "│     1 │ Person_1 │    26 │ City_A  │ 1708250481.3772933 │ Tcn78vRXjmGlMQ │ NULL       │\n",
              "│     2 │ Person_2 │    27 │ City_A  │ 1708250481.3772933 │ WHLS1iW6ijw6YQ │ NULL       │\n",
              "│     3 │ Person_3 │    28 │ City_A  │ 1708250481.3772933 │ ASm5OpVNUaOMzQ │ NULL       │\n",
              "│     4 │ Person_4 │    29 │ City_A  │ 1708250481.3772933 │ vG2JDE/cKLhtxQ │ NULL       │\n",
              "│     5 │ Person_5 │    30 │ City_A  │ 1708250481.3772933 │ gbLhJ340gGnirA │ NULL       │\n",
              "│     3 │ Person_3 │    33 │ City_B  │ 1708250683.1801634 │ xlr5QDDolPumCA │ Job_3      │\n",
              "│     4 │ Person_4 │    34 │ City_B  │ 1708250683.1801634 │ 5gH7BoNnTQVqUw │ Job_4      │\n",
              "│     5 │ Person_5 │    35 │ City_B  │ 1708250683.1801634 │ 6Y6m4AJ2pBkUkQ │ Job_5      │\n",
              "│     6 │ Person_6 │    36 │ City_B  │ 1708250683.1801634 │ EdhwkCGL2eE5cg │ Job_6      │\n",
              "│     7 │ Person_7 │    37 │ City_B  │ 1708250683.1801634 │ BsESX9tZsMIe4A │ Job_7      │\n",
              "│     8 │ Person_8 │    38 │ City_B  │ 1708250683.1801634 │ Htmh9UiEB5fuTg │ Job_8      │\n",
              "├───────┴──────────┴───────┴─────────┴────────────────────┴────────────────┴────────────┤\n",
              "│ 11 rows                                                                     7 columns │\n",
              "└───────────────────────────────────────────────────────────────────────────────────────┘"
            ]
          },
          "metadata": {}
        }
      ]
    },
    {
      "cell_type": "code",
      "source": [
        "print(\"Sum of all ages in people table\" ,connection.execute(\"SELECT SUM(AGE) FROM PEOPLE\").fetchall()[0][0])"
      ],
      "metadata": {
        "colab": {
          "base_uri": "https://localhost:8080/"
        },
        "id": "uTBMNUq5tbAQ",
        "outputId": "5afb001b-71b0-4ecd-e03f-3fb97b5e1227"
      },
      "execution_count": 23,
      "outputs": [
        {
          "output_type": "stream",
          "name": "stdout",
          "text": [
            "Sum of all ages in people table 353\n"
          ]
        }
      ]
    },
    {
      "cell_type": "markdown",
      "source": [
        "Solution 4"
      ],
      "metadata": {
        "id": "j_LsIxrKvuyd"
      }
    },
    {
      "cell_type": "code",
      "source": [
        "#Loading pipeline to duckdb\n",
        "generators = dlt.pipeline(destination = 'duckdb', dataset_name='people_merged')\n",
        "\n",
        "#Running pipeline 'generators'\n",
        "info = generators.run(people_1(),\n",
        "                       table_name = \"people_merged\",\n",
        "                       write_disposition=\"replace\",\n",
        "                      primary_key=\"ID\")\n",
        "\n",
        "print(info)"
      ],
      "metadata": {
        "colab": {
          "base_uri": "https://localhost:8080/"
        },
        "id": "Jxc6Q_0jvyDP",
        "outputId": "b2f6aefe-ef91-4bb1-a7ab-8de2efd3cef2"
      },
      "execution_count": 24,
      "outputs": [
        {
          "output_type": "stream",
          "name": "stdout",
          "text": [
            "Pipeline dlt_colab_kernel_launcher load step completed in 0.27 seconds\n",
            "1 load package(s) were loaded to destination duckdb and into dataset people_merged\n",
            "The duckdb destination used duckdb:////content/dlt_colab_kernel_launcher.duckdb location to store data\n",
            "Load package 1708252122.8733745 is LOADED and contains no failed jobs\n"
          ]
        }
      ]
    },
    {
      "cell_type": "code",
      "source": [
        "#Running 'generators' with people_2\n",
        "info = generators.run(people_2(),\n",
        "                       table_name = \"people_merged\",\n",
        "                       write_disposition=\"merge\",\n",
        "                      primary_key=\"ID\")\n",
        "\n",
        "print(info)"
      ],
      "metadata": {
        "colab": {
          "base_uri": "https://localhost:8080/"
        },
        "id": "NJ2HAeNCwvRF",
        "outputId": "e3267d5f-343f-489d-fb47-6e266f3ae3ee"
      },
      "execution_count": 25,
      "outputs": [
        {
          "output_type": "stream",
          "name": "stdout",
          "text": [
            "Pipeline dlt_colab_kernel_launcher load step completed in 0.44 seconds\n",
            "1 load package(s) were loaded to destination duckdb and into dataset people_merged\n",
            "The duckdb destination used duckdb:////content/dlt_colab_kernel_launcher.duckdb location to store data\n",
            "Load package 1708252249.7254548 is LOADED and contains no failed jobs\n"
          ]
        }
      ]
    },
    {
      "cell_type": "code",
      "source": [
        "#Connecting to duckdb DB and showing tables\n",
        "connection = duckdb.connect(f\"{generators.pipeline_name}.duckdb\")\n",
        "\n",
        "connection.sql(f\"SET search_path = '{generators.dataset_name}'\")\n",
        "display(connection.sql(\"show tables\"))"
      ],
      "metadata": {
        "colab": {
          "base_uri": "https://localhost:8080/",
          "height": 173
        },
        "id": "F3AeydJJxObl",
        "outputId": "46ed2636-7d34-4d2e-e415-f0d0421382b9"
      },
      "execution_count": 26,
      "outputs": [
        {
          "output_type": "display_data",
          "data": {
            "text/plain": [
              "┌─────────────────────┐\n",
              "│        name         │\n",
              "│       varchar       │\n",
              "├─────────────────────┤\n",
              "│ _dlt_loads          │\n",
              "│ _dlt_pipeline_state │\n",
              "│ _dlt_version        │\n",
              "│ people_merged       │\n",
              "└─────────────────────┘"
            ]
          },
          "metadata": {}
        }
      ]
    },
    {
      "cell_type": "code",
      "source": [
        "#Displaying contents of people_merged\n",
        "display(connection.sql(\"SELECT * FROM people_merged\"))"
      ],
      "metadata": {
        "colab": {
          "base_uri": "https://localhost:8080/",
          "height": 243
        },
        "id": "3ztI0aQBxz17",
        "outputId": "851fe02f-9081-4a8e-920b-9d72d86bc858"
      },
      "execution_count": 28,
      "outputs": [
        {
          "output_type": "display_data",
          "data": {
            "text/plain": [
              "┌───────┬──────────┬───────┬─────────┬────────────────────┬────────────────┬────────────┐\n",
              "│  id   │   name   │  age  │  city   │    _dlt_load_id    │    _dlt_id     │ occupation │\n",
              "│ int64 │ varchar  │ int64 │ varchar │      varchar       │    varchar     │  varchar   │\n",
              "├───────┼──────────┼───────┼─────────┼────────────────────┼────────────────┼────────────┤\n",
              "│     1 │ Person_1 │    26 │ City_A  │ 1708252122.8733745 │ C13jHBnCDX/yeQ │ NULL       │\n",
              "│     2 │ Person_2 │    27 │ City_A  │ 1708252122.8733745 │ kPu9NibQR66TjQ │ NULL       │\n",
              "│     5 │ Person_5 │    35 │ City_B  │ 1708252249.7254548 │ qc0nzQ58Nzy5KQ │ Job_5      │\n",
              "│     7 │ Person_7 │    37 │ City_B  │ 1708252249.7254548 │ mPi82txyCHvlRw │ Job_7      │\n",
              "│     8 │ Person_8 │    38 │ City_B  │ 1708252249.7254548 │ 69AKJVDRM56ZuQ │ Job_8      │\n",
              "│     4 │ Person_4 │    34 │ City_B  │ 1708252249.7254548 │ 29QiXzu/hBWelw │ Job_4      │\n",
              "│     3 │ Person_3 │    33 │ City_B  │ 1708252249.7254548 │ vpeNxIl1VNGHnw │ Job_3      │\n",
              "│     6 │ Person_6 │    36 │ City_B  │ 1708252249.7254548 │ ileQfAB82Btf2A │ Job_6      │\n",
              "└───────┴──────────┴───────┴─────────┴────────────────────┴────────────────┴────────────┘"
            ]
          },
          "metadata": {}
        }
      ]
    },
    {
      "cell_type": "code",
      "source": [
        "print(\"Sum of all ages in people table\" ,connection.execute(\"SELECT SUM(AGE) FROM PEOPLE_MERGED\").fetchall()[0][0])"
      ],
      "metadata": {
        "colab": {
          "base_uri": "https://localhost:8080/"
        },
        "id": "pKekIq-3yNzQ",
        "outputId": "5a1abf23-3360-4643-ee17-f5e82ee90242"
      },
      "execution_count": 30,
      "outputs": [
        {
          "output_type": "stream",
          "name": "stdout",
          "text": [
            "Sum of all ages in people table 266\n"
          ]
        }
      ]
    },
    {
      "cell_type": "markdown",
      "source": [
        "Questions? difficulties? We are here to help.\n",
        "- DTC data engineering course channel: https://datatalks-club.slack.com/archives/C01FABYF2RG\n",
        "- dlt's DTC cohort channel: https://dlthub-community.slack.com/archives/C06GAEX2VNX"
      ],
      "metadata": {
        "id": "PoTJu4kbGG0z"
      }
    }
  ]
}